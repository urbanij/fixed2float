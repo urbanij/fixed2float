{
 "cells": [
  {
   "cell_type": "code",
   "execution_count": null,
   "metadata": {},
   "outputs": [],
   "source": [
    "!pip install fixed2float"
   ]
  },
  {
   "cell_type": "code",
   "execution_count": 1,
   "metadata": {},
   "outputs": [
    {
     "data": {
      "text/plain": [
       "'3.11.1 (main, Jan 18 2023, 22:11:49) [Clang 13.0.0 (clang-1300.0.29.30)]'"
      ]
     },
     "execution_count": 1,
     "metadata": {},
     "output_type": "execute_result"
    }
   ],
   "source": [
    "import sys; sys.version"
   ]
  },
  {
   "cell_type": "code",
   "execution_count": 3,
   "metadata": {},
   "outputs": [
    {
     "data": {
      "text/plain": [
       "'4.0.0-rc1'"
      ]
     },
     "execution_count": 3,
     "metadata": {},
     "output_type": "execute_result"
    }
   ],
   "source": [
    "import fixed2float as fi\n",
    "fi.__version__"
   ]
  },
  {
   "cell_type": "code",
   "execution_count": 4,
   "metadata": {},
   "outputs": [],
   "source": [
    "# instantiate Fx representing 3.75 on 8 bits: 3 integer bits and 5 fractional bits\n",
    "\n",
    "fx_a = fi.from_double(x=3.75, m=3, b=8, round=True)"
   ]
  },
  {
   "cell_type": "code",
   "execution_count": 5,
   "metadata": {},
   "outputs": [
    {
     "data": {
      "text/plain": [
       "\u001b[37;41m0\u001b[45m011\u001b[37;40m1100\u001b[0m Fx<3,8>(60) 3.75"
      ]
     },
     "execution_count": 5,
     "metadata": {},
     "output_type": "execute_result"
    }
   ],
   "source": [
    "fx_a"
   ]
  },
  {
   "cell_type": "code",
   "execution_count": 7,
   "metadata": {},
   "outputs": [
    {
     "ename": "AttributeError",
     "evalue": "'builtins.PyFx' object has no attribute 'is_exact'",
     "output_type": "error",
     "traceback": [
      "\u001b[0;31m---------------------------------------------------------------------------\u001b[0m",
      "\u001b[0;31mAttributeError\u001b[0m                            Traceback (most recent call last)",
      "Cell \u001b[0;32mIn[7], line 1\u001b[0m\n\u001b[0;32m----> 1\u001b[0m \u001b[43mfx_a\u001b[49m\u001b[38;5;241;43m.\u001b[39;49m\u001b[43mis_exact\u001b[49m\n",
      "\u001b[0;31mAttributeError\u001b[0m: 'builtins.PyFx' object has no attribute 'is_exact'"
     ]
    }
   ],
   "source": [
    "fx_a.is_exact"
   ]
  },
  {
   "cell_type": "code",
   "execution_count": 8,
   "metadata": {},
   "outputs": [
    {
     "name": "stdout",
     "output_type": "stream",
     "text": [
      "Error: Integer field does not fit into `m` = 2 bits.\n"
     ]
    }
   ],
   "source": [
    "# instantiate FixedPoint representing 5.75 on 2 integer bits\n",
    "# and 15 fractional bits. This fails because 5 cant fit 2 bits\n",
    "\n",
    "fx_b = fi.from_double(5.75, 2, 17, round=True)"
   ]
  },
  {
   "cell_type": "code",
   "execution_count": 9,
   "metadata": {},
   "outputs": [],
   "source": [
    "# instantiate FixedPoint representing 5.1545 on 12 integer bits\n",
    "# and 15 fractional bits. This is truncated, hence the dots...\n",
    "\n",
    "fx_b = fi.from_double(5.1545, 12, 27, round=True)"
   ]
  },
  {
   "cell_type": "code",
   "execution_count": 10,
   "metadata": {},
   "outputs": [
    {
     "data": {
      "text/plain": [
       "\u001b[37;41m0\u001b[45m000000000101\u001b[37;40m00100111100011...\u001b[0m Fx<12,27>(84451) 5.15447998046875"
      ]
     },
     "execution_count": 10,
     "metadata": {},
     "output_type": "execute_result"
    }
   ],
   "source": [
    "fx_b"
   ]
  },
  {
   "cell_type": "code",
   "execution_count": 11,
   "metadata": {},
   "outputs": [
    {
     "ename": "AttributeError",
     "evalue": "'builtins.PyFx' object has no attribute 'is_exact'",
     "output_type": "error",
     "traceback": [
      "\u001b[0;31m---------------------------------------------------------------------------\u001b[0m",
      "\u001b[0;31mAttributeError\u001b[0m                            Traceback (most recent call last)",
      "Cell \u001b[0;32mIn[11], line 1\u001b[0m\n\u001b[0;32m----> 1\u001b[0m \u001b[43mfx_b\u001b[49m\u001b[38;5;241;43m.\u001b[39;49m\u001b[43mis_exact\u001b[49m\n",
      "\u001b[0;31mAttributeError\u001b[0m: 'builtins.PyFx' object has no attribute 'is_exact'"
     ]
    }
   ],
   "source": [
    "fx_b.is_exact"
   ]
  },
  {
   "cell_type": "code",
   "execution_count": 12,
   "metadata": {},
   "outputs": [
    {
     "data": {
      "text/plain": [
       "5.15447998046875"
      ]
     },
     "execution_count": 12,
     "metadata": {},
     "output_type": "execute_result"
    }
   ],
   "source": [
    "# this is the closest it can get with 15 fractional bits\n",
    "\n",
    "fx_b.eval()"
   ]
  },
  {
   "cell_type": "code",
   "execution_count": 13,
   "metadata": {},
   "outputs": [
    {
     "ename": "TypeError",
     "evalue": "unsupported operand type(s) for *: 'builtins.PyFx' and 'builtins.PyFx'",
     "output_type": "error",
     "traceback": [
      "\u001b[0;31m---------------------------------------------------------------------------\u001b[0m",
      "\u001b[0;31mTypeError\u001b[0m                                 Traceback (most recent call last)",
      "Cell \u001b[0;32mIn[13], line 3\u001b[0m\n\u001b[1;32m      1\u001b[0m \u001b[38;5;66;03m# product of two fx objects\u001b[39;00m\n\u001b[0;32m----> 3\u001b[0m \u001b[43mfx_b\u001b[49m\u001b[43m \u001b[49m\u001b[38;5;241;43m*\u001b[39;49m\u001b[43m \u001b[49m\u001b[43mfx_b\u001b[49m \u001b[38;5;241m*\u001b[39m fx_b \u001b[38;5;241m*\u001b[39m fx_b \u001b[38;5;241m*\u001b[39m fx_b \u001b[38;5;241m*\u001b[39m fx_b \u001b[38;5;241m*\u001b[39m fx_b\n",
      "\u001b[0;31mTypeError\u001b[0m: unsupported operand type(s) for *: 'builtins.PyFx' and 'builtins.PyFx'"
     ]
    }
   ],
   "source": [
    "# product of two fx objects\n",
    "\n",
    "fx_b * fx_b * fx_b * fx_b * fx_b * fx_b * fx_b"
   ]
  },
  {
   "cell_type": "code",
   "execution_count": 14,
   "metadata": {},
   "outputs": [
    {
     "ename": "TypeError",
     "evalue": "unsupported operand type(s) for *: 'builtins.PyFx' and 'builtins.PyFx'",
     "output_type": "error",
     "traceback": [
      "\u001b[0;31m---------------------------------------------------------------------------\u001b[0m",
      "\u001b[0;31mTypeError\u001b[0m                                 Traceback (most recent call last)",
      "Cell \u001b[0;32mIn[14], line 2\u001b[0m\n\u001b[1;32m      1\u001b[0m (\n\u001b[0;32m----> 2\u001b[0m     \u001b[43mfx_b\u001b[49m\u001b[43m \u001b[49m\u001b[38;5;241;43m*\u001b[39;49m\u001b[43m \u001b[49m\u001b[43mfx_b\u001b[49m \u001b[38;5;241m*\u001b[39m fx_b \u001b[38;5;241m*\u001b[39m fx_b \u001b[38;5;241m*\u001b[39m fx_b \u001b[38;5;241m*\u001b[39m fx_b \u001b[38;5;241m*\u001b[39m fx_b\n\u001b[1;32m      3\u001b[0m )\u001b[38;5;241m.\u001b[39meval() \u001b[38;5;241m==\u001b[39m fx_b\u001b[38;5;241m.\u001b[39meval() \u001b[38;5;241m*\u001b[39m fx_b\u001b[38;5;241m.\u001b[39meval() \u001b[38;5;241m*\u001b[39m fx_b\u001b[38;5;241m.\u001b[39meval() \u001b[38;5;241m*\u001b[39m fx_b\u001b[38;5;241m.\u001b[39meval() \u001b[38;5;241m*\u001b[39m fx_b\u001b[38;5;241m.\u001b[39meval() \u001b[38;5;241m*\u001b[39m fx_b\u001b[38;5;241m.\u001b[39meval() \u001b[38;5;241m*\u001b[39m fx_b\u001b[38;5;241m.\u001b[39meval()\n",
      "\u001b[0;31mTypeError\u001b[0m: unsupported operand type(s) for *: 'builtins.PyFx' and 'builtins.PyFx'"
     ]
    }
   ],
   "source": [
    "(\n",
    "    fx_b * fx_b * fx_b * fx_b * fx_b * fx_b * fx_b\n",
    ").eval() == fx_b.eval() * fx_b.eval() * fx_b.eval() * fx_b.eval() * fx_b.eval() * fx_b.eval() * fx_b.eval()"
   ]
  },
  {
   "cell_type": "code",
   "execution_count": 15,
   "metadata": {},
   "outputs": [
    {
     "data": {
      "text/plain": [
       "\u001b[37;41m0\u001b[45m000000001010\u001b[37;40m01001111000110...\u001b[0m Fx<12,27>(168902) 10.3089599609375"
      ]
     },
     "execution_count": 15,
     "metadata": {},
     "output_type": "execute_result"
    }
   ],
   "source": [
    "# sum of 2 fx obj\n",
    "\n",
    "fx_b + fx_b"
   ]
  },
  {
   "cell_type": "code",
   "execution_count": 16,
   "metadata": {},
   "outputs": [
    {
     "data": {
      "text/plain": [
       "True"
      ]
     },
     "execution_count": 16,
     "metadata": {},
     "output_type": "execute_result"
    }
   ],
   "source": [
    "(fx_b + fx_b).eval() == fx_b.eval() + fx_b.eval()"
   ]
  },
  {
   "cell_type": "code",
   "execution_count": 18,
   "metadata": {},
   "outputs": [],
   "source": [
    "# initialize fx with its bits 0x7f\n",
    "\n",
    "fx_c = fi.from_bits(\n",
    "    val=0x7F,\n",
    "    m=5,\n",
    "    b=8,\n",
    ")"
   ]
  },
  {
   "cell_type": "code",
   "execution_count": 19,
   "metadata": {},
   "outputs": [
    {
     "data": {
      "text/plain": [
       "\u001b[37;41m0\u001b[45m11111\u001b[37;40m11\u001b[0m Fx<5,8>(127) 31.75"
      ]
     },
     "execution_count": 19,
     "metadata": {},
     "output_type": "execute_result"
    }
   ],
   "source": [
    "fx_c"
   ]
  },
  {
   "cell_type": "code",
   "execution_count": 20,
   "metadata": {},
   "outputs": [
    {
     "ename": "TypeError",
     "evalue": "unsupported operand type(s) for <<: 'builtins.PyFx' and 'int'",
     "output_type": "error",
     "traceback": [
      "\u001b[0;31m---------------------------------------------------------------------------\u001b[0m",
      "\u001b[0;31mTypeError\u001b[0m                                 Traceback (most recent call last)",
      "Cell \u001b[0;32mIn[20], line 3\u001b[0m\n\u001b[1;32m      1\u001b[0m \u001b[38;5;66;03m# left shift\u001b[39;00m\n\u001b[0;32m----> 3\u001b[0m \u001b[43mfx_c\u001b[49m\u001b[43m \u001b[49m\u001b[38;5;241;43m<<\u001b[39;49m\u001b[43m \u001b[49m\u001b[38;5;241;43m1\u001b[39;49m\n",
      "\u001b[0;31mTypeError\u001b[0m: unsupported operand type(s) for <<: 'builtins.PyFx' and 'int'"
     ]
    }
   ],
   "source": [
    "# left shift\n",
    "\n",
    "fx_c << 1"
   ]
  },
  {
   "cell_type": "code",
   "execution_count": 21,
   "metadata": {},
   "outputs": [
    {
     "data": {
      "text/plain": [
       "31.75"
      ]
     },
     "execution_count": 21,
     "metadata": {},
     "output_type": "execute_result"
    }
   ],
   "source": [
    "fx_c.eval()"
   ]
  }
 ],
 "metadata": {
  "interpreter": {
   "hash": "503ef6b6d926f5343126dbcbf2cf48684d717ac812f3ec52f9634a59ee13497f"
  },
  "kernelspec": {
   "display_name": "Python 3 (ipykernel)",
   "language": "python",
   "name": "python3"
  },
  "language_info": {
   "codemirror_mode": {
    "name": "ipython",
    "version": 3
   },
   "file_extension": ".py",
   "mimetype": "text/x-python",
   "name": "python",
   "nbconvert_exporter": "python",
   "pygments_lexer": "ipython3",
   "version": "3.11.1"
  },
  "varInspector": {
   "cols": {
    "lenName": 16,
    "lenType": 16,
    "lenVar": 40
   },
   "kernels_config": {
    "python": {
     "delete_cmd_postfix": "",
     "delete_cmd_prefix": "del ",
     "library": "var_list.py",
     "varRefreshCmd": "print(var_dic_list())"
    },
    "r": {
     "delete_cmd_postfix": ") ",
     "delete_cmd_prefix": "rm(",
     "library": "var_list.r",
     "varRefreshCmd": "cat(var_dic_list()) "
    }
   },
   "types_to_exclude": [
    "module",
    "function",
    "builtin_function_or_method",
    "instance",
    "_Feature"
   ],
   "window_display": false
  }
 },
 "nbformat": 4,
 "nbformat_minor": 2
}
